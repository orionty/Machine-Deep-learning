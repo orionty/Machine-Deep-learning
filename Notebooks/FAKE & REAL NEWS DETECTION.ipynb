{
 "cells": [
  {
   "cell_type": "code",
   "execution_count": 32,
   "id": "d5c27f45",
   "metadata": {},
   "outputs": [],
   "source": [
    "from sklearn.linear_model import PassiveAggressiveClassifier\n",
    "from sklearn.feature_extraction.text import TfidfVectorizer\n",
    "import pandas as pd\n",
    "from sklearn.naive_bayes import GaussianNB\n",
    "from sklearn.tree import DecisionTreeClassifier\n",
    "from sklearn.model_selection import train_test_split\n",
    "from sklearn.ensemble import RandomForestClassifier\n",
    "from sklearn.svm import SVC\n",
    "from sklearn.linear_model import LogisticRegression\n",
    "from sklearn.metrics import accuracy_score\n",
    "from sklearn.metrics import confusion_matrix\n",
    "import matplotlib.pyplot as plt\n",
    "from collections import Counter\n",
    "from nltk.tokenize import word_tokenize\n",
    "import warnings\n",
    "warnings.filterwarnings('ignore')"
   ]
  },
  {
   "cell_type": "code",
   "execution_count": 33,
   "id": "2fc32dc3",
   "metadata": {},
   "outputs": [],
   "source": [
    "news_data = pd.read_csv('D:\\\\DML\\\\fake_or_real_news.csv\\\\fake_or_real_news.csv')"
   ]
  },
  {
   "cell_type": "code",
   "execution_count": 34,
   "id": "03c25e8f",
   "metadata": {},
   "outputs": [
    {
     "data": {
      "text/html": [
       "<div>\n",
       "<style scoped>\n",
       "    .dataframe tbody tr th:only-of-type {\n",
       "        vertical-align: middle;\n",
       "    }\n",
       "\n",
       "    .dataframe tbody tr th {\n",
       "        vertical-align: top;\n",
       "    }\n",
       "\n",
       "    .dataframe thead th {\n",
       "        text-align: right;\n",
       "    }\n",
       "</style>\n",
       "<table border=\"1\" class=\"dataframe\">\n",
       "  <thead>\n",
       "    <tr style=\"text-align: right;\">\n",
       "      <th></th>\n",
       "      <th>Unnamed: 0</th>\n",
       "      <th>title</th>\n",
       "      <th>text</th>\n",
       "      <th>label</th>\n",
       "    </tr>\n",
       "  </thead>\n",
       "  <tbody>\n",
       "    <tr>\n",
       "      <th>0</th>\n",
       "      <td>8476</td>\n",
       "      <td>You Can Smell Hillary’s Fear</td>\n",
       "      <td>Daniel Greenfield, a Shillman Journalism Fello...</td>\n",
       "      <td>FAKE</td>\n",
       "    </tr>\n",
       "    <tr>\n",
       "      <th>1</th>\n",
       "      <td>10294</td>\n",
       "      <td>Watch The Exact Moment Paul Ryan Committed Pol...</td>\n",
       "      <td>Google Pinterest Digg Linkedin Reddit Stumbleu...</td>\n",
       "      <td>FAKE</td>\n",
       "    </tr>\n",
       "    <tr>\n",
       "      <th>2</th>\n",
       "      <td>3608</td>\n",
       "      <td>Kerry to go to Paris in gesture of sympathy</td>\n",
       "      <td>U.S. Secretary of State John F. Kerry said Mon...</td>\n",
       "      <td>REAL</td>\n",
       "    </tr>\n",
       "    <tr>\n",
       "      <th>3</th>\n",
       "      <td>10142</td>\n",
       "      <td>Bernie supporters on Twitter erupt in anger ag...</td>\n",
       "      <td>— Kaydee King (@KaydeeKing) November 9, 2016 T...</td>\n",
       "      <td>FAKE</td>\n",
       "    </tr>\n",
       "    <tr>\n",
       "      <th>4</th>\n",
       "      <td>875</td>\n",
       "      <td>The Battle of New York: Why This Primary Matters</td>\n",
       "      <td>It's primary day in New York and front-runners...</td>\n",
       "      <td>REAL</td>\n",
       "    </tr>\n",
       "  </tbody>\n",
       "</table>\n",
       "</div>"
      ],
      "text/plain": [
       "   Unnamed: 0                                              title  \\\n",
       "0        8476                       You Can Smell Hillary’s Fear   \n",
       "1       10294  Watch The Exact Moment Paul Ryan Committed Pol...   \n",
       "2        3608        Kerry to go to Paris in gesture of sympathy   \n",
       "3       10142  Bernie supporters on Twitter erupt in anger ag...   \n",
       "4         875   The Battle of New York: Why This Primary Matters   \n",
       "\n",
       "                                                text label  \n",
       "0  Daniel Greenfield, a Shillman Journalism Fello...  FAKE  \n",
       "1  Google Pinterest Digg Linkedin Reddit Stumbleu...  FAKE  \n",
       "2  U.S. Secretary of State John F. Kerry said Mon...  REAL  \n",
       "3  — Kaydee King (@KaydeeKing) November 9, 2016 T...  FAKE  \n",
       "4  It's primary day in New York and front-runners...  REAL  "
      ]
     },
     "execution_count": 34,
     "metadata": {},
     "output_type": "execute_result"
    }
   ],
   "source": [
    "news_data.head()"
   ]
  },
  {
   "cell_type": "code",
   "execution_count": 35,
   "id": "62c9d222",
   "metadata": {},
   "outputs": [
    {
     "name": "stdout",
     "output_type": "stream",
     "text": [
      "<class 'pandas.core.frame.DataFrame'>\n",
      "RangeIndex: 6335 entries, 0 to 6334\n",
      "Data columns (total 4 columns):\n",
      " #   Column      Non-Null Count  Dtype \n",
      "---  ------      --------------  ----- \n",
      " 0   Unnamed: 0  6335 non-null   int64 \n",
      " 1   title       6335 non-null   object\n",
      " 2   text        6335 non-null   object\n",
      " 3   label       6335 non-null   object\n",
      "dtypes: int64(1), object(3)\n",
      "memory usage: 198.1+ KB\n"
     ]
    }
   ],
   "source": [
    "news_data.info()\n"
   ]
  },
  {
   "cell_type": "code",
   "execution_count": 36,
   "id": "b13fd5a2",
   "metadata": {},
   "outputs": [
    {
     "data": {
      "text/plain": [
       "Unnamed: 0    0\n",
       "title         0\n",
       "text          0\n",
       "label         0\n",
       "dtype: int64"
      ]
     },
     "execution_count": 36,
     "metadata": {},
     "output_type": "execute_result"
    }
   ],
   "source": [
    "news_data.isnull().sum()"
   ]
  },
  {
   "cell_type": "markdown",
   "id": "90a0628a",
   "metadata": {},
   "source": [
    "# Splitting Data"
   ]
  },
  {
   "cell_type": "code",
   "execution_count": 37,
   "id": "92b8ddb7",
   "metadata": {},
   "outputs": [
    {
     "name": "stdout",
     "output_type": "stream",
     "text": [
      "x_train = (5068,)\n",
      "x_test = (1267,)\n",
      "y_train = (5068,)\n",
      "y_test (1267,)\n"
     ]
    }
   ],
   "source": [
    "# Splitting the data into training and testing data\n",
    "x_train,x_test,y_train,y_test = train_test_split(news_data['text'],news_data['label'], test_size=0.2)\n",
    "print(\"x_train =\", x_train.shape)\n",
    "print(\"x_test =\", x_test.shape)\n",
    "print(\"y_train =\", y_train.shape)\n",
    "print(\"y_test\", y_test.shape)"
   ]
  },
  {
   "cell_type": "markdown",
   "id": "936c96d8",
   "metadata": {},
   "source": [
    "# TfidfVectorizer"
   ]
  },
  {
   "cell_type": "code",
   "execution_count": 38,
   "id": "e4956f5a",
   "metadata": {},
   "outputs": [],
   "source": [
    "## The TfidfVectorizer converts a collection of raw documents into a matrix of TF-IDF features.\n",
    "# TF (Term Frequency)\n",
    "# The number of times a word appears in a document is its Term Frequency. A higher value means a term appears more often than others, and so, the document is a good match when the term is part of the search terms.\n",
    "# IDF (Inverse Document Frequency):\n",
    "# Words that occur many times a document, but also occur many times in many others, may be irrelevant. IDF is a measure of how significant a term is in the entire corpus."
   ]
  },
  {
   "cell_type": "code",
   "execution_count": 39,
   "id": "435f7fc0",
   "metadata": {},
   "outputs": [
    {
     "name": "stdout",
     "output_type": "stream",
     "text": [
      "x_test =  (1267, 61441)\n",
      "x_train =  (5068, 61441)\n"
     ]
    }
   ],
   "source": [
    "term_frequency = TfidfVectorizer(stop_words='english', max_df=0.8)\n",
    "x_train = term_frequency.fit_transform(x_train)\n",
    "x_test = term_frequency.transform(x_test)\n",
    "print(\"x_test = \",x_test.shape)\n",
    "print(\"x_train = \",x_train.shape)"
   ]
  },
  {
   "cell_type": "markdown",
   "id": "032df8ca",
   "metadata": {},
   "source": [
    "# Fitting the model"
   ]
  },
  {
   "cell_type": "code",
   "execution_count": 40,
   "id": "d20212da",
   "metadata": {},
   "outputs": [],
   "source": [
    "# We have to build a model to accurately classify a piece of news as REAL or FAKE.\n",
    "#We have used six models PassiveAggressiveClassifier, GaussianNB\n",
    "#DecisionTreeClassifier, RandomForestClassifier, SVC, LogisticRegression so as to compare the accuracy of these models. It will help us to find which model fits the data and predict real and fake news accurately.\n"
   ]
  },
  {
   "cell_type": "code",
   "execution_count": 41,
   "id": "0d388693",
   "metadata": {},
   "outputs": [
    {
     "data": {
      "text/plain": [
       "LogisticRegression()"
      ]
     },
     "execution_count": 41,
     "metadata": {},
     "output_type": "execute_result"
    }
   ],
   "source": [
    "model1 = PassiveAggressiveClassifier(max_iter=300)\n",
    "model1.fit(x_train,y_train)\n",
    "model2 = GaussianNB()\n",
    "model2.fit(x_train.toarray(),y_train)\n",
    "model3 = DecisionTreeClassifier()\n",
    "model3.fit(x_train,y_train)\n",
    "model4 = RandomForestClassifier()\n",
    "model4.fit(x_train,y_train)\n",
    "model5 = SVC()\n",
    "model5.fit(x_train,y_train)\n",
    "model6 = LogisticRegression()\n",
    "model6.fit(x_train,y_train)"
   ]
  },
  {
   "cell_type": "markdown",
   "id": "dce1dec6",
   "metadata": {},
   "source": [
    "# Prediction for testing data"
   ]
  },
  {
   "cell_type": "code",
   "execution_count": 43,
   "id": "e103e778",
   "metadata": {},
   "outputs": [],
   "source": [
    "y_pred1 = model1.predict(x_test)\n",
    "y_pred2 = model2.predict(x_test.toarray())\n",
    "y_pred3 = model3.predict(x_test)\n",
    "y_pred4 = model4.predict(x_test)\n",
    "y_pred5 = model5.predict(x_test)\n",
    "y_pred6 = model6.predict(x_test)"
   ]
  },
  {
   "cell_type": "code",
   "execution_count": 45,
   "id": "2f5acced",
   "metadata": {},
   "outputs": [],
   "source": [
    "# Calculating accuracy score\n",
    "acc1 = accuracy_score(y_test,y_pred1)\n",
    "acc2 = accuracy_score(y_test,y_pred2)\n",
    "acc3 = accuracy_score(y_test,y_pred3)\n",
    "acc4 = accuracy_score(y_test,y_pred4)\n",
    "acc5 = accuracy_score(y_test,y_pred5)\n",
    "acc6 = accuracy_score(y_test,y_pred6)"
   ]
  },
  {
   "cell_type": "code",
   "execution_count": 46,
   "id": "f8327b68",
   "metadata": {},
   "outputs": [
    {
     "name": "stdout",
     "output_type": "stream",
     "text": [
      "PassiveAggressiveClassifier : 0.9289660615627466\n",
      "GaussianNB : 0.8105761641673244\n",
      "DecisionTreeClassifier : 0.8089976322020521\n",
      "RandomForestClassifier : 0.8966061562746646\n",
      "SVC : 0.9250197316495659\n",
      "LogisticRegression : 0.9131807419100236\n"
     ]
    }
   ],
   "source": [
    "labels={'PassiveAggressiveClassifier':acc1,'GaussianNB':acc2,'DecisionTreeClassifier':acc3,'RandomForestClassifier':acc4,\n",
    "        'SVC':acc5,'LogisticRegression':acc6}\n",
    "for model,accuracy in labels.items():\n",
    "    print(str(model)+' : '+str(accuracy))"
   ]
  },
  {
   "cell_type": "code",
   "execution_count": 51,
   "id": "f4caa5dd",
   "metadata": {},
   "outputs": [
    {
     "data": {
      "text/plain": [
       "Text(0.5, 1.0, 'Fake news')"
      ]
     },
     "execution_count": 51,
     "metadata": {},
     "output_type": "execute_result"
    },
    {
     "data": {
      "image/png": "[encoded data removed]",
      "text/plain": [
       "<Figure size 1080x576 with 2 Axes>"
      ]
     },
     "metadata": {
      "needs_background": "light"
     },
     "output_type": "display_data"
    }
   ],
   "source": [
    "fig, (ax1,ax2)=plt.subplots(1,2,figsize=(15,8))\n",
    "fig.suptitle('Characters in News Title',fontsize=20)\n",
    "news_len=news_data[news_data['label']=='REAL']['title'].str.len()\n",
    "ax1.hist(news_len,color='orange',linewidth=2,edgecolor='black')\n",
    "ax1.set_title('REAL news',fontsize=15)\n",
    "news_len=news_data[news_data['label']=='FAKE']['title'].str.len()\n",
    "ax2.hist(news_len,linewidth=2,edgecolor='black')\n",
    "ax2.set_title('Fake news',fontsize=15)"
   ]
  },
  {
   "cell_type": "code",
   "execution_count": 52,
   "id": "2ce782d1",
   "metadata": {},
   "outputs": [
    {
     "data": {
      "text/plain": [
       "<BarContainer object of 6 artists>"
      ]
     },
     "execution_count": 52,
     "metadata": {},
     "output_type": "execute_result"
    },
    {
     "data": {
      "image/png": "[encoded data removed]",
      "text/plain": [
       "<Figure size 1080x576 with 1 Axes>"
      ]
     },
     "metadata": {
      "needs_background": "light"
     },
     "output_type": "display_data"
    }
   ],
   "source": [
    "plt.figure(figsize=(15,8))\n",
    "plt.title('Comparing Accuracy of ML Models',fontsize=20)\n",
    "colors=['red','yellow','orange','green','magenta','cyan']\n",
    "plt.xticks(fontsize=10,color='blue')\n",
    "plt.yticks(fontsize=20,color='blue')\n",
    "plt.ylabel('Accuracy',fontsize=20)\n",
    "plt.xlabel('Models',fontsize=20)\n",
    "plt.bar(labels.keys(),labels.values(),edgecolor='black',color=colors, linewidth=2,alpha=0.5)"
   ]
  },
  {
   "cell_type": "code",
   "execution_count": null,
   "id": "31deaf5b",
   "metadata": {},
   "outputs": [],
   "source": []
  }
 ],
 "metadata": {
  "kernelspec": {
   "display_name": "Python 3 (ipykernel)",
   "language": "python",
   "name": "python3"
  },
  "language_info": {
   "codemirror_mode": {
    "name": "ipython",
    "version": 3
   },
   "file_extension": ".py",
   "mimetype": "text/x-python",
   "name": "python",
   "nbconvert_exporter": "python",
   "pygments_lexer": "ipython3",
   "version": "3.9.12"
  }
 },
 "nbformat": 4,
 "nbformat_minor": 5
}
