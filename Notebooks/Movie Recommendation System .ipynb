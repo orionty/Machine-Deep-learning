{
 "cells": [
  {
   "cell_type": "code",
   "execution_count": 1,
   "id": "eb1d5dca",
   "metadata": {},
   "outputs": [],
   "source": [
    "import numpy as np\n",
    "import pandas as pd\n",
    "import matplotlib.pyplot as plt\n",
    "import seaborn as sns"
   ]
  },
  {
   "cell_type": "markdown",
   "id": "785b1a6e",
   "metadata": {},
   "source": [
    "## Datasets"
   ]
  },
  {
   "cell_type": "code",
   "execution_count": 2,
   "id": "e5c7a160",
   "metadata": {},
   "outputs": [
    {
     "data": {
      "text/html": [
       "<div>\n",
       "<style scoped>\n",
       "    .dataframe tbody tr th:only-of-type {\n",
       "        vertical-align: middle;\n",
       "    }\n",
       "\n",
       "    .dataframe tbody tr th {\n",
       "        vertical-align: top;\n",
       "    }\n",
       "\n",
       "    .dataframe thead th {\n",
       "        text-align: right;\n",
       "    }\n",
       "</style>\n",
       "<table border=\"1\" class=\"dataframe\">\n",
       "  <thead>\n",
       "    <tr style=\"text-align: right;\">\n",
       "      <th></th>\n",
       "      <th>movieId</th>\n",
       "      <th>title</th>\n",
       "      <th>genres</th>\n",
       "    </tr>\n",
       "  </thead>\n",
       "  <tbody>\n",
       "    <tr>\n",
       "      <th>0</th>\n",
       "      <td>1</td>\n",
       "      <td>Toy Story (1995)</td>\n",
       "      <td>Adventure|Animation|Children|Comedy|Fantasy</td>\n",
       "    </tr>\n",
       "    <tr>\n",
       "      <th>1</th>\n",
       "      <td>2</td>\n",
       "      <td>Jumanji (1995)</td>\n",
       "      <td>Adventure|Children|Fantasy</td>\n",
       "    </tr>\n",
       "    <tr>\n",
       "      <th>2</th>\n",
       "      <td>3</td>\n",
       "      <td>Grumpier Old Men (1995)</td>\n",
       "      <td>Comedy|Romance</td>\n",
       "    </tr>\n",
       "    <tr>\n",
       "      <th>3</th>\n",
       "      <td>4</td>\n",
       "      <td>Waiting to Exhale (1995)</td>\n",
       "      <td>Comedy|Drama|Romance</td>\n",
       "    </tr>\n",
       "    <tr>\n",
       "      <th>4</th>\n",
       "      <td>5</td>\n",
       "      <td>Father of the Bride Part II (1995)</td>\n",
       "      <td>Comedy</td>\n",
       "    </tr>\n",
       "  </tbody>\n",
       "</table>\n",
       "</div>"
      ],
      "text/plain": [
       "   movieId                               title  \\\n",
       "0        1                    Toy Story (1995)   \n",
       "1        2                      Jumanji (1995)   \n",
       "2        3             Grumpier Old Men (1995)   \n",
       "3        4            Waiting to Exhale (1995)   \n",
       "4        5  Father of the Bride Part II (1995)   \n",
       "\n",
       "                                        genres  \n",
       "0  Adventure|Animation|Children|Comedy|Fantasy  \n",
       "1                   Adventure|Children|Fantasy  \n",
       "2                               Comedy|Romance  \n",
       "3                         Comedy|Drama|Romance  \n",
       "4                                       Comedy  "
      ]
     },
     "execution_count": 2,
     "metadata": {},
     "output_type": "execute_result"
    }
   ],
   "source": [
    "movies = pd.read_csv('D:\\DML\\ml-25m\\ml-25m\\movies.csv')\n",
    "ratings = pd.read_csv('D:\\\\DML\\\\ml-25m\\\\ml-25m\\\\ratings.csv')\n",
    "movies.head()"
   ]
  },
  {
   "cell_type": "code",
   "execution_count": 3,
   "id": "aeb8835c",
   "metadata": {},
   "outputs": [
    {
     "data": {
      "text/html": [
       "<div>\n",
       "<style scoped>\n",
       "    .dataframe tbody tr th:only-of-type {\n",
       "        vertical-align: middle;\n",
       "    }\n",
       "\n",
       "    .dataframe tbody tr th {\n",
       "        vertical-align: top;\n",
       "    }\n",
       "\n",
       "    .dataframe thead th {\n",
       "        text-align: right;\n",
       "    }\n",
       "</style>\n",
       "<table border=\"1\" class=\"dataframe\">\n",
       "  <thead>\n",
       "    <tr style=\"text-align: right;\">\n",
       "      <th></th>\n",
       "      <th>userId</th>\n",
       "      <th>movieId</th>\n",
       "      <th>rating</th>\n",
       "      <th>timestamp</th>\n",
       "    </tr>\n",
       "  </thead>\n",
       "  <tbody>\n",
       "    <tr>\n",
       "      <th>0</th>\n",
       "      <td>1</td>\n",
       "      <td>296</td>\n",
       "      <td>5.0</td>\n",
       "      <td>1147880044</td>\n",
       "    </tr>\n",
       "    <tr>\n",
       "      <th>1</th>\n",
       "      <td>1</td>\n",
       "      <td>306</td>\n",
       "      <td>3.5</td>\n",
       "      <td>1147868817</td>\n",
       "    </tr>\n",
       "    <tr>\n",
       "      <th>2</th>\n",
       "      <td>1</td>\n",
       "      <td>307</td>\n",
       "      <td>5.0</td>\n",
       "      <td>1147868828</td>\n",
       "    </tr>\n",
       "    <tr>\n",
       "      <th>3</th>\n",
       "      <td>1</td>\n",
       "      <td>665</td>\n",
       "      <td>5.0</td>\n",
       "      <td>1147878820</td>\n",
       "    </tr>\n",
       "    <tr>\n",
       "      <th>4</th>\n",
       "      <td>1</td>\n",
       "      <td>899</td>\n",
       "      <td>3.5</td>\n",
       "      <td>1147868510</td>\n",
       "    </tr>\n",
       "  </tbody>\n",
       "</table>\n",
       "</div>"
      ],
      "text/plain": [
       "   userId  movieId  rating   timestamp\n",
       "0       1      296     5.0  1147880044\n",
       "1       1      306     3.5  1147868817\n",
       "2       1      307     5.0  1147868828\n",
       "3       1      665     5.0  1147878820\n",
       "4       1      899     3.5  1147868510"
      ]
     },
     "execution_count": 3,
     "metadata": {},
     "output_type": "execute_result"
    }
   ],
   "source": [
    "ratings.head()"
   ]
  },
  {
   "cell_type": "markdown",
   "id": "f306143c",
   "metadata": {},
   "source": [
    "# Recommendation System"
   ]
  },
  {
   "cell_type": "code",
   "execution_count": 4,
   "id": "ad558945",
   "metadata": {},
   "outputs": [
    {
     "data": {
      "text/html": [
       "<div>\n",
       "<style scoped>\n",
       "    .dataframe tbody tr th:only-of-type {\n",
       "        vertical-align: middle;\n",
       "    }\n",
       "\n",
       "    .dataframe tbody tr th {\n",
       "        vertical-align: top;\n",
       "    }\n",
       "\n",
       "    .dataframe thead th {\n",
       "        text-align: right;\n",
       "    }\n",
       "</style>\n",
       "<table border=\"1\" class=\"dataframe\">\n",
       "  <thead>\n",
       "    <tr style=\"text-align: right;\">\n",
       "      <th></th>\n",
       "      <th>rating</th>\n",
       "      <th>userId</th>\n",
       "    </tr>\n",
       "    <tr>\n",
       "      <th>movieId</th>\n",
       "      <th></th>\n",
       "      <th></th>\n",
       "    </tr>\n",
       "  </thead>\n",
       "  <tbody>\n",
       "    <tr>\n",
       "      <th>1</th>\n",
       "      <td>5.0</td>\n",
       "      <td>162538</td>\n",
       "    </tr>\n",
       "    <tr>\n",
       "      <th>2</th>\n",
       "      <td>5.0</td>\n",
       "      <td>162533</td>\n",
       "    </tr>\n",
       "    <tr>\n",
       "      <th>3</th>\n",
       "      <td>5.0</td>\n",
       "      <td>162529</td>\n",
       "    </tr>\n",
       "    <tr>\n",
       "      <th>4</th>\n",
       "      <td>5.0</td>\n",
       "      <td>162516</td>\n",
       "    </tr>\n",
       "    <tr>\n",
       "      <th>5</th>\n",
       "      <td>5.0</td>\n",
       "      <td>162529</td>\n",
       "    </tr>\n",
       "  </tbody>\n",
       "</table>\n",
       "</div>"
      ],
      "text/plain": [
       "         rating  userId\n",
       "movieId                \n",
       "1           5.0  162538\n",
       "2           5.0  162533\n",
       "3           5.0  162529\n",
       "4           5.0  162516\n",
       "5           5.0  162529"
      ]
     },
     "execution_count": 4,
     "metadata": {},
     "output_type": "execute_result"
    }
   ],
   "source": [
    "rating = pd.pivot_table(ratings,values = [\"rating\",\"userId\"],index = \"movieId\", aggfunc = max)\n",
    "rating.head()"
   ]
  },
  {
   "cell_type": "markdown",
   "id": "5bd30072",
   "metadata": {},
   "source": [
    "## Machine Learning Model Training for Recommending  Movies Based on Users Ratings"
   ]
  },
  {
   "cell_type": "code",
   "execution_count": 6,
   "id": "28a42811",
   "metadata": {},
   "outputs": [
    {
     "data": {
      "text/plain": [
       "NearestNeighbors(metric='cosine')"
      ]
     },
     "execution_count": 6,
     "metadata": {},
     "output_type": "execute_result"
    }
   ],
   "source": [
    "from sklearn.neighbors import NearestNeighbors\n",
    "nn = NearestNeighbors(metric = 'cosine')\n",
    "nn.fit(rating)"
   ]
  },
  {
   "cell_type": "markdown",
   "id": "f04e84f8",
   "metadata": {},
   "source": [
    "## Collaborative Filtering Recommendation"
   ]
  },
  {
   "cell_type": "code",
   "execution_count": 7,
   "id": "1f083fec",
   "metadata": {},
   "outputs": [],
   "source": [
    "class Recommender:\n",
    "    def __init__(self):\n",
    "        self.hist = [] \n",
    "        self.ishist = False \n",
    "        \n",
    "    def recommend_on_movie(self,movie,n_reccomend = 5):\n",
    "        self.ishist = True\n",
    "        movieid = int(movies[movies['title']==movie]['movieId'])\n",
    "        self.hist.append(movieid)\n",
    "        distance,neighbors = nn.kneighbors([rating.loc[movieid]],n_neighbors=n_reccomend+1)\n",
    "        movieids = [rating.iloc[i].name for i in neighbors[0]]\n",
    "        recommeds = [str(movies[movies['movieId']==mid]['title']).split('\\n')[0].split('  ')[-1] for mid in movieids if mid not in [movieid]]\n",
    "        return recommeds[:n_reccomend]\n",
    "    \n",
    "    def recommend_on_history(self,n_reccomend = 5):\n",
    "        if self.ishist == False:\n",
    "            return print('No history found')\n",
    "        history = np.array([list(rating.loc[mid]) for mid in self.hist])\n",
    "        distance,neighbors = nn.kneighbors([np.average(history,axis=0)],n_neighbors=n_reccomend + len(self.hist))\n",
    "        movieids = [rating.iloc[i].name for i in neighbors[0]]\n",
    "        recommeds = [str(movies[movies['movieId']==mid]['title']).split('\\n')[0].split('  ')[-1] for mid in movieids if mid not in self.hist]\n",
    "        return recommeds[:n_reccomend]"
   ]
  },
  {
   "cell_type": "code",
   "execution_count": 8,
   "id": "1dbd515a",
   "metadata": {},
   "outputs": [],
   "source": [
    "# linitializing the Recommender Object\n",
    "recommender = Recommender()  "
   ]
  },
  {
   "cell_type": "code",
   "execution_count": 9,
   "id": "e155ed9b",
   "metadata": {},
   "outputs": [
    {
     "name": "stdout",
     "output_type": "stream",
     "text": [
      "No history found\n"
     ]
    }
   ],
   "source": [
    "# Recommendation based on past watched movies, but the object just initialized. So, therefore no history found\n",
    "recommender.recommend_on_history()    "
   ]
  },
  {
   "cell_type": "code",
   "execution_count": 10,
   "id": "bcdfaed6",
   "metadata": {},
   "outputs": [
    {
     "name": "stderr",
     "output_type": "stream",
     "text": [
      "c:\\Users\\orion\\anaconda3\\lib\\site-packages\\sklearn\\base.py:450: UserWarning: X does not have valid feature names, but NearestNeighbors was fitted with feature names\n",
      "  warnings.warn(\n"
     ]
    },
    {
     "data": {
      "text/plain": [
       "[\"Vegas Vacation (National Lampoon's Las Vegas V...\",\n",
       " 'Angels with Dirty Faces (1938)',\n",
       " 'Biutiful (2010)',\n",
       " 'Twister (1996)',\n",
       " 'Moulin Rouge (2001)']"
      ]
     },
     "execution_count": 10,
     "metadata": {},
     "output_type": "execute_result"
    }
   ],
   "source": [
    "# Recommendation based on this movie \n",
    "bride = recommender.recommend_on_movie('Tigerland (2000)')\n",
    "bride"
   ]
  },
  {
   "cell_type": "code",
   "execution_count": 137,
   "id": "f179ff32",
   "metadata": {},
   "outputs": [
    {
     "name": "stderr",
     "output_type": "stream",
     "text": [
      "C:\\Users\\orion\\anaconda3\\lib\\site-packages\\sklearn\\base.py:450: UserWarning: X does not have valid feature names, but NearestNeighbors was fitted with feature names\n",
      "  warnings.warn(\n"
     ]
    },
    {
     "data": {
      "text/plain": [
       "[\"Vegas Vacation (National Lampoon's Las Vegas V...\",\n",
       " 'Angels with Dirty Faces (1938)',\n",
       " 'Biutiful (2010)',\n",
       " 'Twister (1996)',\n",
       " 'Moulin Rouge (2001)']"
      ]
     },
     "execution_count": 137,
     "metadata": {},
     "output_type": "execute_result"
    }
   ],
   "source": [
    "# Recommendation based on past watched movies, and this time a movie is there in the history.\n",
    "recommender.recommend_on_history()"
   ]
  },
  {
   "cell_type": "code",
   "execution_count": 138,
   "id": "d4d51e89",
   "metadata": {},
   "outputs": [
    {
     "name": "stderr",
     "output_type": "stream",
     "text": [
      "C:\\Users\\orion\\anaconda3\\lib\\site-packages\\sklearn\\base.py:450: UserWarning: X does not have valid feature names, but NearestNeighbors was fitted with feature names\n",
      "  warnings.warn(\n"
     ]
    },
    {
     "data": {
      "text/plain": [
       "[\"Vegas Vacation (National Lampoon's Las Vegas V...\",\n",
       " 'Angels with Dirty Faces (1938)',\n",
       " 'Biutiful (2010)',\n",
       " 'Twister (1996)',\n",
       " 'Moulin Rouge (2001)']"
      ]
     },
     "execution_count": 138,
     "metadata": {},
     "output_type": "execute_result"
    }
   ],
   "source": [
    "# Recommendation based on this movie\n",
    "recommender.recommend_on_movie('Tigerland (2000)')"
   ]
  },
  {
   "cell_type": "code",
   "execution_count": 139,
   "id": "5ce59a2e",
   "metadata": {},
   "outputs": [
    {
     "name": "stderr",
     "output_type": "stream",
     "text": [
      "C:\\Users\\orion\\anaconda3\\lib\\site-packages\\sklearn\\base.py:450: UserWarning: X does not have valid feature names, but NearestNeighbors was fitted with feature names\n",
      "  warnings.warn(\n"
     ]
    },
    {
     "data": {
      "text/plain": [
       "['Biutiful (2010)',\n",
       " 'Moulin Rouge (2001)',\n",
       " 'Angels with Dirty Faces (1938)',\n",
       " 'Twister (1996)',\n",
       " \"Vegas Vacation (National Lampoon's Las Vegas V...\"]"
      ]
     },
     "execution_count": 139,
     "metadata": {},
     "output_type": "execute_result"
    }
   ],
   "source": [
    "# Recommendation based on past watched movies, and this time two movies is there in the history.\n",
    "recommender.recommend_on_history()\n"
   ]
  },
  {
   "cell_type": "code",
   "execution_count": 140,
   "id": "8ac77320",
   "metadata": {},
   "outputs": [
    {
     "name": "stderr",
     "output_type": "stream",
     "text": [
      "C:\\Users\\orion\\anaconda3\\lib\\site-packages\\sklearn\\base.py:450: UserWarning: X does not have valid feature names, but NearestNeighbors was fitted with feature names\n",
      "  warnings.warn(\n"
     ]
    },
    {
     "data": {
      "text/plain": [
       "['My Girl (1991)',\n",
       " 'Kiss Before Dying, A (1956)',\n",
       " 'War and Peace (1956)',\n",
       " 'My Girl 2 (1994)',\n",
       " 'Control (2007)']"
      ]
     },
     "execution_count": 140,
     "metadata": {},
     "output_type": "execute_result"
    }
   ],
   "source": [
    "# Recommendation based on this movie\n",
    "recommender.recommend_on_movie('Grumpier Old Men (1995)')"
   ]
  },
  {
   "cell_type": "code",
   "execution_count": 141,
   "id": "7511d184",
   "metadata": {},
   "outputs": [
    {
     "name": "stderr",
     "output_type": "stream",
     "text": [
      "C:\\Users\\orion\\anaconda3\\lib\\site-packages\\sklearn\\base.py:450: UserWarning: X does not have valid feature names, but NearestNeighbors was fitted with feature names\n",
      "  warnings.warn(\n"
     ]
    },
    {
     "data": {
      "text/plain": [
       "['Omen, The (2006)',\n",
       " 'Birdman: Or (The Unexpected Virtue of Ignoranc...',\n",
       " 'Southern Comfort (1981)',\n",
       " 'Sweet Hereafter, The (1997)',\n",
       " 'Mouse Hunt (1997)']"
      ]
     },
     "execution_count": 141,
     "metadata": {},
     "output_type": "execute_result"
    }
   ],
   "source": [
    "# Recommendation based on this movie\n",
    "recommender.recommend_on_movie('Money Train (1995)')"
   ]
  },
  {
   "cell_type": "markdown",
   "id": "e59d98cb",
   "metadata": {},
   "source": [
    "## Content Based Filtering"
   ]
  },
  {
   "cell_type": "code",
   "execution_count": 142,
   "id": "1d238954",
   "metadata": {},
   "outputs": [
    {
     "name": "stderr",
     "output_type": "stream",
     "text": [
      "C:\\Users\\orion\\anaconda3\\lib\\site-packages\\sklearn\\utils\\deprecation.py:87: FutureWarning: Function get_feature_names is deprecated; get_feature_names is deprecated in 1.0 and will be removed in 1.2. Please use get_feature_names_out instead.\n",
      "  warnings.warn(msg, category=FutureWarning)\n"
     ]
    },
    {
     "data": {
      "text/html": [
       "<div>\n",
       "<style scoped>\n",
       "    .dataframe tbody tr th:only-of-type {\n",
       "        vertical-align: middle;\n",
       "    }\n",
       "\n",
       "    .dataframe tbody tr th {\n",
       "        vertical-align: top;\n",
       "    }\n",
       "\n",
       "    .dataframe thead th {\n",
       "        text-align: right;\n",
       "    }\n",
       "</style>\n",
       "<table border=\"1\" class=\"dataframe\">\n",
       "  <thead>\n",
       "    <tr style=\"text-align: right;\">\n",
       "      <th></th>\n",
       "      <th>action</th>\n",
       "      <th>adventure</th>\n",
       "      <th>animation</th>\n",
       "      <th>children</th>\n",
       "      <th>comedy</th>\n",
       "      <th>crime</th>\n",
       "      <th>documentary</th>\n",
       "      <th>drama</th>\n",
       "      <th>fantasy</th>\n",
       "      <th>fi</th>\n",
       "      <th>film</th>\n",
       "      <th>genres</th>\n",
       "      <th>horror</th>\n",
       "      <th>imax</th>\n",
       "      <th>listed</th>\n",
       "      <th>musical</th>\n",
       "      <th>mystery</th>\n",
       "      <th>noir</th>\n",
       "      <th>romance</th>\n",
       "      <th>sci</th>\n",
       "      <th>thriller</th>\n",
       "      <th>war</th>\n",
       "      <th>western</th>\n",
       "    </tr>\n",
       "  </thead>\n",
       "  <tbody>\n",
       "    <tr>\n",
       "      <th>0</th>\n",
       "      <td>0</td>\n",
       "      <td>1</td>\n",
       "      <td>1</td>\n",
       "      <td>1</td>\n",
       "      <td>1</td>\n",
       "      <td>0</td>\n",
       "      <td>0</td>\n",
       "      <td>0</td>\n",
       "      <td>1</td>\n",
       "      <td>0</td>\n",
       "      <td>0</td>\n",
       "      <td>0</td>\n",
       "      <td>0</td>\n",
       "      <td>0</td>\n",
       "      <td>0</td>\n",
       "      <td>0</td>\n",
       "      <td>0</td>\n",
       "      <td>0</td>\n",
       "      <td>0</td>\n",
       "      <td>0</td>\n",
       "      <td>0</td>\n",
       "      <td>0</td>\n",
       "      <td>0</td>\n",
       "    </tr>\n",
       "    <tr>\n",
       "      <th>1</th>\n",
       "      <td>0</td>\n",
       "      <td>1</td>\n",
       "      <td>0</td>\n",
       "      <td>1</td>\n",
       "      <td>0</td>\n",
       "      <td>0</td>\n",
       "      <td>0</td>\n",
       "      <td>0</td>\n",
       "      <td>1</td>\n",
       "      <td>0</td>\n",
       "      <td>0</td>\n",
       "      <td>0</td>\n",
       "      <td>0</td>\n",
       "      <td>0</td>\n",
       "      <td>0</td>\n",
       "      <td>0</td>\n",
       "      <td>0</td>\n",
       "      <td>0</td>\n",
       "      <td>0</td>\n",
       "      <td>0</td>\n",
       "      <td>0</td>\n",
       "      <td>0</td>\n",
       "      <td>0</td>\n",
       "    </tr>\n",
       "    <tr>\n",
       "      <th>2</th>\n",
       "      <td>0</td>\n",
       "      <td>0</td>\n",
       "      <td>0</td>\n",
       "      <td>0</td>\n",
       "      <td>1</td>\n",
       "      <td>0</td>\n",
       "      <td>0</td>\n",
       "      <td>0</td>\n",
       "      <td>0</td>\n",
       "      <td>0</td>\n",
       "      <td>0</td>\n",
       "      <td>0</td>\n",
       "      <td>0</td>\n",
       "      <td>0</td>\n",
       "      <td>0</td>\n",
       "      <td>0</td>\n",
       "      <td>0</td>\n",
       "      <td>0</td>\n",
       "      <td>1</td>\n",
       "      <td>0</td>\n",
       "      <td>0</td>\n",
       "      <td>0</td>\n",
       "      <td>0</td>\n",
       "    </tr>\n",
       "    <tr>\n",
       "      <th>3</th>\n",
       "      <td>0</td>\n",
       "      <td>0</td>\n",
       "      <td>0</td>\n",
       "      <td>0</td>\n",
       "      <td>1</td>\n",
       "      <td>0</td>\n",
       "      <td>0</td>\n",
       "      <td>1</td>\n",
       "      <td>0</td>\n",
       "      <td>0</td>\n",
       "      <td>0</td>\n",
       "      <td>0</td>\n",
       "      <td>0</td>\n",
       "      <td>0</td>\n",
       "      <td>0</td>\n",
       "      <td>0</td>\n",
       "      <td>0</td>\n",
       "      <td>0</td>\n",
       "      <td>1</td>\n",
       "      <td>0</td>\n",
       "      <td>0</td>\n",
       "      <td>0</td>\n",
       "      <td>0</td>\n",
       "    </tr>\n",
       "    <tr>\n",
       "      <th>4</th>\n",
       "      <td>0</td>\n",
       "      <td>0</td>\n",
       "      <td>0</td>\n",
       "      <td>0</td>\n",
       "      <td>1</td>\n",
       "      <td>0</td>\n",
       "      <td>0</td>\n",
       "      <td>0</td>\n",
       "      <td>0</td>\n",
       "      <td>0</td>\n",
       "      <td>0</td>\n",
       "      <td>0</td>\n",
       "      <td>0</td>\n",
       "      <td>0</td>\n",
       "      <td>0</td>\n",
       "      <td>0</td>\n",
       "      <td>0</td>\n",
       "      <td>0</td>\n",
       "      <td>0</td>\n",
       "      <td>0</td>\n",
       "      <td>0</td>\n",
       "      <td>0</td>\n",
       "      <td>0</td>\n",
       "    </tr>\n",
       "  </tbody>\n",
       "</table>\n",
       "</div>"
      ],
      "text/plain": [
       "   action  adventure  animation  children  comedy  crime  documentary  drama  \\\n",
       "0       0          1          1         1       1      0            0      0   \n",
       "1       0          1          0         1       0      0            0      0   \n",
       "2       0          0          0         0       1      0            0      0   \n",
       "3       0          0          0         0       1      0            0      1   \n",
       "4       0          0          0         0       1      0            0      0   \n",
       "\n",
       "   fantasy  fi  film  genres  horror  imax  listed  musical  mystery  noir  \\\n",
       "0        1   0     0       0       0     0       0        0        0     0   \n",
       "1        1   0     0       0       0     0       0        0        0     0   \n",
       "2        0   0     0       0       0     0       0        0        0     0   \n",
       "3        0   0     0       0       0     0       0        0        0     0   \n",
       "4        0   0     0       0       0     0       0        0        0     0   \n",
       "\n",
       "   romance  sci  thriller  war  western  \n",
       "0        0    0         0    0        0  \n",
       "1        0    0         0    0        0  \n",
       "2        1    0         0    0        0  \n",
       "3        1    0         0    0        0  \n",
       "4        0    0         0    0        0  "
      ]
     },
     "execution_count": 142,
     "metadata": {},
     "output_type": "execute_result"
    }
   ],
   "source": [
    "from sklearn.feature_extraction.text import CountVectorizer\n",
    "vectorizer = CountVectorizer(stop_words = 'english')\n",
    "genres  =  vectorizer.fit_transform(movies.genres).toarray()\n",
    "contents = pd.DataFrame(genres, columns = vectorizer.get_feature_names())\n",
    "contents.head()"
   ]
  },
  {
   "cell_type": "markdown",
   "id": "4768dc71",
   "metadata": {},
   "source": [
    "### Machine Learning Model training for Recommending movies based on movies contents."
   ]
  },
  {
   "cell_type": "code",
   "execution_count": 143,
   "id": "75a4396f",
   "metadata": {},
   "outputs": [
    {
     "data": {
      "text/plain": [
       "NearestNeighbors(metric='cosine')"
      ]
     },
     "execution_count": 143,
     "metadata": {},
     "output_type": "execute_result"
    }
   ],
   "source": [
    "from sklearn.neighbors import NearestNeighbors\n",
    "nn = NearestNeighbors(metric='cosine')\n",
    "nn.fit(contents)"
   ]
  },
  {
   "cell_type": "code",
   "execution_count": 144,
   "id": "3dc59a45",
   "metadata": {},
   "outputs": [],
   "source": [
    "class Recommender:\n",
    "    def __init__(self):\n",
    "        # This list will stored movies that called atleast ones using recommend_on_movie method\n",
    "        self.hist = [] \n",
    "        self.ishist = False # Check if history is empty\n",
    "    \n",
    "    # This method will recommend movies based on a movie that passed as the parameter\n",
    "    def recommend_on_movie(self,movie,n_reccomend = 5):\n",
    "        self.ishist = True\n",
    "        iloc = movies[movies['title']==movie].index[0]\n",
    "        self.hist.append(iloc)\n",
    "        distance,neighbors = nn.kneighbors([contents.iloc[iloc]],n_neighbors=n_reccomend+1)\n",
    "        recommeds = [movies.iloc[i]['title'] for i in neighbors[0] if i not in [iloc]]\n",
    "        return recommeds[:n_reccomend]\n",
    "    \n",
    "    def recommend_on_history(self,n_reccomend = 5):\n",
    "        if self.ishist == False:\n",
    "            return print('No history found')\n",
    "        history = np.array([list(contents.iloc[iloc]) for iloc in self.hist])\n",
    "        distance,neighbors = nn.kneighbors([np.average(history,axis=0)],n_neighbors=n_reccomend + len(self.hist))\n",
    "        recommeds = [movies.iloc[i]['title'] for i in neighbors[0] if i not in self.hist]\n",
    "        return recommeds[:n_reccomend]"
   ]
  },
  {
   "cell_type": "code",
   "execution_count": 145,
   "id": "31b913b5",
   "metadata": {},
   "outputs": [],
   "source": [
    "# linitializing the Recommender Object\n",
    "recommender = Recommender()  "
   ]
  },
  {
   "cell_type": "code",
   "execution_count": 146,
   "id": "7162af57",
   "metadata": {},
   "outputs": [
    {
     "name": "stdout",
     "output_type": "stream",
     "text": [
      "No history found\n"
     ]
    }
   ],
   "source": [
    "recommender.recommend_on_history()   "
   ]
  },
  {
   "cell_type": "code",
   "execution_count": 147,
   "id": "0cfdd272",
   "metadata": {},
   "outputs": [
    {
     "name": "stderr",
     "output_type": "stream",
     "text": [
      "C:\\Users\\orion\\anaconda3\\lib\\site-packages\\sklearn\\base.py:450: UserWarning: X does not have valid feature names, but NearestNeighbors was fitted with feature names\n",
      "  warnings.warn(\n"
     ]
    },
    {
     "data": {
      "text/plain": [
       "['Bloodfisted Brothers (1978)',\n",
       " 'Border (1997)',\n",
       " 'Dragon Lee Vs. The 5 Brothers (1978)',\n",
       " 'American Ninja 4: The Annihilation (1990)',\n",
       " 'Bruce Lee Fights Back from the Grave (1976)']"
      ]
     },
     "execution_count": 147,
     "metadata": {},
     "output_type": "execute_result"
    }
   ],
   "source": [
    "# Recommendation based on this movie \n",
    "recommender.recommend_on_movie('Sudden Death (1995)')"
   ]
  },
  {
   "cell_type": "code",
   "execution_count": 148,
   "id": "19eaed01",
   "metadata": {},
   "outputs": [
    {
     "name": "stderr",
     "output_type": "stream",
     "text": [
      "C:\\Users\\orion\\anaconda3\\lib\\site-packages\\sklearn\\base.py:450: UserWarning: X does not have valid feature names, but NearestNeighbors was fitted with feature names\n",
      "  warnings.warn(\n"
     ]
    },
    {
     "data": {
      "text/plain": [
       "['Bloodfisted Brothers (1978)',\n",
       " 'Border (1997)',\n",
       " 'Dragon Lee Vs. The 5 Brothers (1978)',\n",
       " 'American Ninja 4: The Annihilation (1990)',\n",
       " 'Bruce Lee Fights Back from the Grave (1976)']"
      ]
     },
     "execution_count": 148,
     "metadata": {},
     "output_type": "execute_result"
    }
   ],
   "source": [
    "# Recommendation based on past watched movies, and this time a movie is there in the history.\n",
    "recommender.recommend_on_history()"
   ]
  },
  {
   "cell_type": "code",
   "execution_count": 149,
   "id": "7ce6e8b7",
   "metadata": {},
   "outputs": [
    {
     "name": "stderr",
     "output_type": "stream",
     "text": [
      "C:\\Users\\orion\\anaconda3\\lib\\site-packages\\sklearn\\base.py:450: UserWarning: X does not have valid feature names, but NearestNeighbors was fitted with feature names\n",
      "  warnings.warn(\n"
     ]
    },
    {
     "data": {
      "text/plain": [
       "['Hope Floats (1998)',\n",
       " 'Souls for Sale (1923)',\n",
       " '3 Idiots (2009)',\n",
       " 'The Mystery of Happiness (2014)',\n",
       " 'Badhaai Ho (2018)']"
      ]
     },
     "execution_count": 149,
     "metadata": {},
     "output_type": "execute_result"
    }
   ],
   "source": [
    "# Recommendation based on this movie\n",
    "recommender.recommend_on_movie('Waiting to Exhale (1995)')"
   ]
  },
  {
   "cell_type": "code",
   "execution_count": 110,
   "id": "3b91e6a9",
   "metadata": {},
   "outputs": [
    {
     "name": "stderr",
     "output_type": "stream",
     "text": [
      "C:\\Users\\orion\\anaconda3\\lib\\site-packages\\sklearn\\base.py:450: UserWarning: X does not have valid feature names, but NearestNeighbors was fitted with feature names\n",
      "  warnings.warn(\n"
     ]
    },
    {
     "data": {
      "text/plain": [
       "['Quantum of Solace (2008)',\n",
       " 'The Devil-Ship Pirates (1964)',\n",
       " 'Night Train to Mundo Fine (1966)',\n",
       " 'A Cry in the Wild (1990)',\n",
       " 'Diamonds Are Forever (1971)']"
      ]
     },
     "execution_count": 110,
     "metadata": {},
     "output_type": "execute_result"
    }
   ],
   "source": [
    "# Recommendation based on this movie\n",
    "recommender.recommend_on_movie('GoldenEye (1995)')"
   ]
  },
  {
   "cell_type": "code",
   "execution_count": 111,
   "id": "f91b3620",
   "metadata": {},
   "outputs": [
    {
     "name": "stderr",
     "output_type": "stream",
     "text": [
      "C:\\Users\\orion\\anaconda3\\lib\\site-packages\\sklearn\\base.py:450: UserWarning: X does not have valid feature names, but NearestNeighbors was fitted with feature names\n",
      "  warnings.warn(\n"
     ]
    },
    {
     "data": {
      "text/plain": [
       "['Unstoppable (2004)',\n",
       " 'Hunting Party, The (2007)',\n",
       " 'Bail Out (1990)',\n",
       " 'Chill Factor (1999)',\n",
       " 'Mummy Returns, The (2001)']"
      ]
     },
     "execution_count": 111,
     "metadata": {},
     "output_type": "execute_result"
    }
   ],
   "source": [
    "recommender.recommend_on_history()"
   ]
  },
  {
   "cell_type": "code",
   "execution_count": null,
   "id": "fe1dda52",
   "metadata": {},
   "outputs": [],
   "source": []
  }
 ],
 "metadata": {
  "kernelspec": {
   "display_name": "Python 3.9.12",
   "language": "python",
   "name": "python3"
  },
  "language_info": {
   "codemirror_mode": {
    "name": "ipython",
    "version": 3
   },
   "file_extension": ".py",
   "mimetype": "text/x-python",
   "name": "python",
   "nbconvert_exporter": "python",
   "pygments_lexer": "ipython3",
   "version": "3.9.12"
  },
  "vscode": {
   "interpreter": {
    "hash": "713d5d8b57a9621a2cf3344594f6016847c3fe0ba9ea750c372402515a570532"
   }
  }
 },
 "nbformat": 4,
 "nbformat_minor": 5
}
