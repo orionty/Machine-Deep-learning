{
  "cells": [
    {
      "cell_type": "code",
      "execution_count": 24,
      "metadata": {
        "id": "2CIs2kllPNNX"
      },
      "outputs": [],
      "source": [
        "import tensorflow as tf \n",
        "from tensorflow.keras import datasets, layers, models\n",
        "import numpy as np \n",
        "import pandas as pd \n",
        "import matplotlib.pyplot as plt \n",
        "from sklearn.preprocessing import MinMaxScaler"
      ]
    },
    {
      "cell_type": "code",
      "execution_count": 34,
      "metadata": {
        "id": "zjBhxOu0PNNd"
      },
      "outputs": [],
      "source": [
        "(xtrain, ytrain), (xtest, ytest) = datasets.cifar10.load_data()"
      ]
    },
    {
      "cell_type": "code",
      "source": [
        "print(\"X train: \",xtrain.shape) \n",
        "print(\"X test: \",xtest.shape) "
      ],
      "metadata": {
        "colab": {
          "base_uri": "https://localhost:8080/"
        },
        "id": "nYMBtZ-28sx6",
        "outputId": "9d7e974c-27f3-4016-babc-61468abb58fd"
      },
      "execution_count": 35,
      "outputs": [
        {
          "output_type": "stream",
          "name": "stdout",
          "text": [
            "X train:  (50000, 32, 32, 3)\n",
            "X test:  (10000, 32, 32, 3)\n"
          ]
        }
      ]
    },
    {
      "cell_type": "code",
      "source": [
        "# ImageClasses = [0,1,2,3,4,5,6,7,8,9] // 10 classes\n",
        "ImageClasses = [\"airplane\",\"automobile\",\"bird\",\"cat\",\"deer\",\"dog\",\"frog\",\"horse\",\"ship\",\"truck\"]"
      ],
      "metadata": {
        "id": "d_qOFPll_KHD"
      },
      "execution_count": 36,
      "outputs": []
    },
    {
      "cell_type": "code",
      "source": [
        "ytrain = ytrain.reshape(-1,)\n",
        "ytrain[:5]"
      ],
      "metadata": {
        "colab": {
          "base_uri": "https://localhost:8080/"
        },
        "id": "X3ZpNyFE_9jP",
        "outputId": "ee1aac74-15e6-40b8-ac42-44ac37eeef24"
      },
      "execution_count": 37,
      "outputs": [
        {
          "output_type": "execute_result",
          "data": {
            "text/plain": [
              "array([6, 9, 9, 4, 1], dtype=uint8)"
            ]
          },
          "metadata": {},
          "execution_count": 37
        }
      ]
    },
    {
      "cell_type": "code",
      "source": [
        "ytest = ytest.reshape(-1,)"
      ],
      "metadata": {
        "id": "FBBT_QSIMKHs"
      },
      "execution_count": 39,
      "outputs": []
    },
    {
      "cell_type": "code",
      "source": [
        "# image display function\n",
        "def ImageShow(X,Y,index):\n",
        "  plt.figure(figsize=(14,2))\n",
        "  plt.imshow(X[index])\n",
        "  plt.title(ImageClasses[Y[index]])\n",
        "ImageShow(xtrain,ytrain,1)"
      ],
      "metadata": {
        "colab": {
          "base_uri": "https://localhost:8080/",
          "height": 173
        },
        "id": "gxuAvDLS8xeJ",
        "outputId": "dc9cfd2d-dbd5-4ae8-8b31-7000c2c99e02"
      },
      "execution_count": 42,
      "outputs": [
        {
          "output_type": "display_data",
          "data": {
            "text/plain": [
              "<Figure size 1008x144 with 1 Axes>"
            ],
            "image/png": "[encoded data removed]"
          },
          "metadata": {
            "needs_background": "light"
          }
        }
      ]
    },
    {
      "cell_type": "code",
      "source": [
        "xtrain = xtrain / 255.0\n",
        "ytrain = ytrain / 255.0\n",
        "\n",
        "\n"
      ],
      "metadata": {
        "id": "KkgusWOc9Oqy"
      },
      "execution_count": 30,
      "outputs": []
    },
    {
      "cell_type": "code",
      "source": [
        "CNNmodel = models.Sequential([\n",
        "    layers.Conv2D(filters = 32, kernel_size = (3, 3),activation = 'relu',input_shape = (32,32,3)),\n",
        "    layers.MaxPooling2D((2, 2)),\n",
        "\n",
        "    layers.Conv2D(filters = 64, kernel_size = (3, 3),activation = 'relu'),\n",
        "    layers.MaxPooling2D((2, 2)),\n",
        "\n",
        "    layers.Flatten(),\n",
        "    layers.Dense(32, activation='relu'),\n",
        "    layers.Dense(10, activation='softmax')\n",
        "])\n",
        "CNNmodel.compile( optimizer = 'Adam', loss = 'sparse_categorical_crossentropy', metrics =['accuracy'])\n"
      ],
      "metadata": {
        "id": "YWk63zbVBybS"
      },
      "execution_count": null,
      "outputs": []
    },
    {
      "cell_type": "code",
      "source": [
        "CNNmodel.fit(xtrain,ytrain, epochs=10)"
      ],
      "metadata": {
        "colab": {
          "base_uri": "https://localhost:8080/"
        },
        "id": "CCkx-PjNE2y6",
        "outputId": "7088d658-7d99-4cd9-eec6-da97c80b1d43"
      },
      "execution_count": 67,
      "outputs": [
        {
          "output_type": "stream",
          "name": "stdout",
          "text": [
            "Epoch 1/10\n",
            "1563/1563 [==============================] - 6s 4ms/step - loss: 0.6997 - accuracy: 0.7610\n",
            "Epoch 2/10\n",
            "1563/1563 [==============================] - 6s 4ms/step - loss: 0.6204 - accuracy: 0.7868\n",
            "Epoch 3/10\n",
            "1563/1563 [==============================] - 5s 4ms/step - loss: 0.5731 - accuracy: 0.8017\n",
            "Epoch 4/10\n",
            "1563/1563 [==============================] - 6s 4ms/step - loss: 0.5320 - accuracy: 0.8172\n",
            "Epoch 5/10\n",
            "1563/1563 [==============================] - 6s 4ms/step - loss: 0.4792 - accuracy: 0.8331\n",
            "Epoch 6/10\n",
            "1563/1563 [==============================] - 5s 4ms/step - loss: 0.4421 - accuracy: 0.8456\n",
            "Epoch 7/10\n",
            "1563/1563 [==============================] - 6s 4ms/step - loss: 0.4304 - accuracy: 0.8523\n",
            "Epoch 8/10\n",
            "1563/1563 [==============================] - 6s 4ms/step - loss: 0.4020 - accuracy: 0.8620\n",
            "Epoch 9/10\n",
            "1563/1563 [==============================] - 6s 4ms/step - loss: 0.3785 - accuracy: 0.8707\n",
            "Epoch 10/10\n",
            "1563/1563 [==============================] - 6s 4ms/step - loss: 0.3478 - accuracy: 0.8801\n"
          ]
        },
        {
          "output_type": "execute_result",
          "data": {
            "text/plain": [
              "<keras.callbacks.History at 0x7f6fb34c4880>"
            ]
          },
          "metadata": {},
          "execution_count": 67
        }
      ]
    },
    {
      "cell_type": "code",
      "source": [
        "CNNmodel.evaluate(xtest,ytest)"
      ],
      "metadata": {
        "colab": {
          "base_uri": "https://localhost:8080/"
        },
        "id": "7DRwHymcN1yq",
        "outputId": "65e36e30-19c1-4c33-f708-2de0c4987ebd"
      },
      "execution_count": 68,
      "outputs": [
        {
          "output_type": "stream",
          "name": "stdout",
          "text": [
            "313/313 [==============================] - 1s 3ms/step - loss: 1.9926 - accuracy: 0.6153\n"
          ]
        },
        {
          "output_type": "execute_result",
          "data": {
            "text/plain": [
              "[1.9926437139511108, 0.6152999997138977]"
            ]
          },
          "metadata": {},
          "execution_count": 68
        }
      ]
    },
    {
      "cell_type": "code",
      "source": [
        "ypredict = CNNmodel.predict(xtest)\n",
        "ypredict[:5]"
      ],
      "metadata": {
        "colab": {
          "base_uri": "https://localhost:8080/"
        },
        "id": "YJO_seiAK7hb",
        "outputId": "4360dbf6-19f8-4900-c7a7-3e25a163634f"
      },
      "execution_count": 69,
      "outputs": [
        {
          "output_type": "stream",
          "name": "stdout",
          "text": [
            "313/313 [==============================] - 1s 2ms/step\n"
          ]
        },
        {
          "output_type": "execute_result",
          "data": {
            "text/plain": [
              "array([[1.70741641e-05, 2.44582965e-10, 7.16478053e-06, 9.91110802e-01,\n",
              "        9.16266103e-08, 6.89710351e-03, 1.45924378e-06, 6.88891816e-07,\n",
              "        1.96538353e-03, 1.69068983e-07],\n",
              "       [7.94491917e-02, 2.07709218e-05, 1.87003337e-08, 1.57153557e-09,\n",
              "        1.68610557e-12, 7.81631426e-10, 1.58978011e-07, 2.57231153e-10,\n",
              "        9.12648141e-01, 7.88171869e-03],\n",
              "       [1.65780336e-01, 1.31984934e-01, 2.29714508e-03, 2.74981325e-03,\n",
              "        1.40964330e-04, 1.82853866e-04, 3.05070821e-03, 3.47722671e-04,\n",
              "        6.78368509e-01, 1.50970835e-02],\n",
              "       [9.99930143e-01, 5.52054402e-10, 3.97819422e-05, 2.91671910e-07,\n",
              "        4.13612241e-07, 3.10504712e-11, 4.91398566e-08, 1.29424561e-05,\n",
              "        1.63738769e-05, 1.99822114e-08],\n",
              "       [2.77247159e-09, 9.40022904e-09, 6.54494949e-03, 1.30571082e-01,\n",
              "        1.22405335e-01, 4.27237719e-05, 7.40435064e-01, 6.92112224e-07,\n",
              "        1.34480175e-07, 3.96834565e-09]], dtype=float32)"
            ]
          },
          "metadata": {},
          "execution_count": 69
        }
      ]
    },
    {
      "cell_type": "code",
      "source": [
        "\n",
        "yClasses = [np.argmax(yClass) for yClass in ypredict]\n",
        "yClasses[:10]"
      ],
      "metadata": {
        "colab": {
          "base_uri": "https://localhost:8080/"
        },
        "id": "L-DcmLlMFoD_",
        "outputId": "8b236edb-2271-428f-ca51-6c869569470a"
      },
      "execution_count": 70,
      "outputs": [
        {
          "output_type": "execute_result",
          "data": {
            "text/plain": [
              "[3, 8, 8, 0, 6, 6, 1, 6, 3, 1]"
            ]
          },
          "metadata": {},
          "execution_count": 70
        }
      ]
    },
    {
      "cell_type": "code",
      "source": [
        "ImageShow(xtest,ytest,100)"
      ],
      "metadata": {
        "colab": {
          "base_uri": "https://localhost:8080/",
          "height": 173
        },
        "id": "P90ayZT9OG4S",
        "outputId": "f4594d3e-7a29-4da8-bb8b-268409345728"
      },
      "execution_count": 83,
      "outputs": [
        {
          "output_type": "display_data",
          "data": {
            "text/plain": [
              "<Figure size 1008x144 with 1 Axes>"
            ],
            "image/png": "[encoded data removed]"
          },
          "metadata": {
            "needs_background": "light"
          }
        }
      ]
    },
    {
      "cell_type": "code",
      "source": [
        "ImageClasses[yClasses[100]]"
      ],
      "metadata": {
        "colab": {
          "base_uri": "https://localhost:8080/",
          "height": 35
        },
        "id": "26-35JjpGS1u",
        "outputId": "73926527-6195-4678-afdc-5491fce4155f"
      },
      "execution_count": 84,
      "outputs": [
        {
          "output_type": "execute_result",
          "data": {
            "text/plain": [
              "'deer'"
            ],
            "application/vnd.google.colaboratory.intrinsic+json": {
              "type": "string"
            }
          },
          "metadata": {},
          "execution_count": 84
        }
      ]
    },
    {
      "cell_type": "code",
      "source": [],
      "metadata": {
        "id": "Ea55a5TLGv36"
      },
      "execution_count": null,
      "outputs": []
    }
  ],
  "metadata": {
    "accelerator": "GPU",
    "colab": {
      "provenance": []
    },
    "gpuClass": "standard",
    "kernelspec": {
      "display_name": "Python 3.10.6 64-bit",
      "language": "python",
      "name": "python3"
    },
    "language_info": {
      "codemirror_mode": {
        "name": "ipython",
        "version": 3
      },
      "file_extension": ".py",
      "mimetype": "text/x-python",
      "name": "python",
      "nbconvert_exporter": "python",
      "pygments_lexer": "ipython3",
      "version": "3.10.6"
    },
    "vscode": {
      "interpreter": {
        "hash": "18e3fd758e2d79b5ad5bb08623e97769ba332cf1a2179fda988744caa974d24a"
      }
    }
  },
  "nbformat": 4,
  "nbformat_minor": 0
}